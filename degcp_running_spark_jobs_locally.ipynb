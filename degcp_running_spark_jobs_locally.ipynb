{
 "cells": [
  {
   "cell_type": "markdown",
   "metadata": {},
   "source": [
    "# Project: Running Apache Spark jobs locally"
   ]
  },
  {
   "cell_type": "markdown",
   "metadata": {},
   "source": [
    "## Find spark"
   ]
  },
  {
   "cell_type": "code",
   "execution_count": 2,
   "metadata": {},
   "outputs": [
    {
     "name": "stdout",
     "output_type": "stream",
     "text": [
      "done\n"
     ]
    }
   ],
   "source": [
    "import findspark\n",
    "\n",
    "findspark.init()\n",
    "print(\"done\")"
   ]
  },
  {
   "cell_type": "markdown",
   "metadata": {},
   "source": [
    "## Data Source"
   ]
  },
  {
   "cell_type": "markdown",
   "metadata": {},
   "source": [
    "An extract from the KDD Cup competition from the Knowledge, Discovery, and Data (KDD) conference in 1999. The data relates to computer intrusion detection events.\n",
    "http://kdd.ics.uci.edu/databases/kddcup99/kddcup.data_10_percent.gz\n"
   ]
  },
  {
   "cell_type": "markdown",
   "metadata": {},
   "source": [
    "## Create an SparkContext sc"
   ]
  },
  {
   "cell_type": "code",
   "execution_count": 3,
   "metadata": {},
   "outputs": [],
   "source": [
    "import pyspark\n",
    "from pyspark.sql import SparkSession\n",
    "\n",
    "#spark = SparkSession.builder.getOrCreate()\n",
    "spark = SparkSession.builder.appName(\"kdd\").getOrCreate()\n",
    "sc = spark.sparkContext"
   ]
  },
  {
   "cell_type": "markdown",
   "metadata": {},
   "source": [
    "## Fetch the data source file"
   ]
  },
  {
   "cell_type": "code",
   "execution_count": 4,
   "metadata": {},
   "outputs": [
    {
     "name": "stderr",
     "output_type": "stream",
     "text": [
      "SYSTEM_WGETRC = c:/progra~1/wget/etc/wgetrc\n",
      "syswgetrc = C:\\Program Files (x86)\\Gow/etc/wgetrc\n",
      "--2020-07-15 23:26:12--  http://kdd.ics.uci.edu/databases/kddcup99/kddcup.data_10_percent.gz\n",
      "Resolving kdd.ics.uci.edu... 128.195.1.86\n",
      "Connecting to kdd.ics.uci.edu|128.195.1.86|:80... connected.\n",
      "HTTP request sent, awaiting response... 200 OK\n",
      "Length: 2144903 (2,0M) [application/x-gzip]\n",
      "Saving to: `kddcup.data_10_percent.gz.5'\n",
      "\n",
      "     0K .......... .......... .......... .......... ..........  2%  145K 14s\n",
      "    50K .......... .......... .......... .......... ..........  4%  287K 10s\n",
      "   100K .......... .......... .......... .......... ..........  7% 4,25M 7s\n",
      "   150K .......... .......... .......... .......... ..........  9% 5,72M 5s\n",
      "   200K .......... .......... .......... .......... .......... 11%  311K 5s\n",
      "   250K .......... .......... .......... .......... .......... 14% 4,72M 4s\n",
      "   300K .......... .......... .......... .......... .......... 16%  321K 4s\n",
      "   350K .......... .......... .......... .......... .......... 19% 2,87M 4s\n",
      "   400K .......... .......... .......... .......... .......... 21% 5,45M 3s\n",
      "   450K .......... .......... .......... .......... .......... 23%  337K 3s\n",
      "   500K .......... .......... .......... .......... .......... 26% 10,8M 3s\n",
      "   550K .......... .......... .......... .......... .......... 28% 12,3M 3s\n",
      "   600K .......... .......... .......... .......... .......... 31% 10,9M 2s\n",
      "   650K .......... .......... .......... .......... .......... 33% 9,39M 2s\n",
      "   700K .......... .......... .......... .......... .......... 35% 9,98M 2s\n",
      "   750K .......... .......... .......... .......... .......... 38% 15,1M 2s\n",
      "   800K .......... .......... .......... .......... .......... 40%  348K 2s\n",
      "   850K .......... .......... .......... .......... .......... 42% 12,7M 2s\n",
      "   900K .......... .......... .......... .......... .......... 45% 5,79M 1s\n",
      "   950K .......... .......... .......... .......... .......... 47% 11,9M 1s\n",
      "  1000K .......... .......... .......... .......... .......... 50% 7,52M 1s\n",
      "  1050K .......... .......... .......... .......... .......... 52% 8,41M 1s\n",
      "  1100K .......... .......... .......... .......... .......... 54% 4,91M 1s\n",
      "  1150K .......... .......... .......... .......... .......... 57%  362K 1s\n",
      "  1200K .......... .......... .......... .......... .......... 59% 10,8M 1s\n",
      "  1250K .......... .......... .......... .......... .......... 62% 6,87M 1s\n",
      "  1300K .......... .......... .......... .......... .......... 64% 11,0M 1s\n",
      "  1350K .......... .......... .......... .......... .......... 66% 12,2M 1s\n",
      "  1400K .......... .......... .......... .......... .......... 69% 7,18M 1s\n",
      "  1450K .......... .......... .......... .......... .......... 71%  359K 1s\n",
      "  1500K .......... .......... .......... .......... .......... 73% 6,33M 1s\n",
      "  1550K .......... .......... .......... .......... .......... 76% 11,4M 0s\n",
      "  1600K .......... .......... .......... .......... .......... 78% 7,13M 0s\n",
      "  1650K .......... .......... .......... .......... .......... 81% 4,61M 0s\n",
      "  1700K .......... .......... .......... .......... .......... 83% 11,7M 0s\n",
      "  1750K .......... .......... .......... .......... .......... 85% 10,8M 0s\n",
      "  1800K .......... .......... .......... .......... .......... 88%  368K 0s\n",
      "  1850K .......... .......... .......... .......... .......... 90% 7,42M 0s\n",
      "  1900K .......... .......... .......... .......... .......... 93% 12,2M 0s\n",
      "  1950K .......... .......... .......... .......... .......... 95% 6,75M 0s\n",
      "  2000K .......... .......... .......... .......... .......... 97% 4,25M 0s\n",
      "  2050K .......... .......... .......... .......... ....      100% 11,0M=1,8s\n",
      "\n",
      "2020-07-15 23:26:14 (1,16 MB/s) - `kddcup.data_10_percent.gz.5' saved [2144903/2144903]\n",
      "\n"
     ]
    }
   ],
   "source": [
    "!wget http://kdd.ics.uci.edu/databases/kddcup99/kddcup.data_10_percent.gz"
   ]
  },
  {
   "cell_type": "markdown",
   "metadata": {},
   "source": [
    "## Reading in data"
   ]
  },
  {
   "cell_type": "code",
   "execution_count": 6,
   "metadata": {},
   "outputs": [
    {
     "data": {
      "text/plain": [
       "['0,tcp,http,SF,181,5450,0,0,0,0,0,1,0,0,0,0,0,0,0,0,0,0,8,8,0.00,0.00,0.00,0.00,1.00,0.00,0.00,9,9,1.00,0.00,0.11,0.00,0.00,0.00,0.00,0.00,normal.',\n",
       " '0,tcp,http,SF,239,486,0,0,0,0,0,1,0,0,0,0,0,0,0,0,0,0,8,8,0.00,0.00,0.00,0.00,1.00,0.00,0.00,19,19,1.00,0.00,0.05,0.00,0.00,0.00,0.00,0.00,normal.']"
      ]
     },
     "execution_count": 6,
     "metadata": {},
     "output_type": "execute_result"
    }
   ],
   "source": [
    "from pyspark.sql import SparkSession, SQLContext, Row\n",
    "\n",
    "data_file = \"kddcup.data_10_percent.gz\"\n",
    "raw_rdd = sc.textFile(data_file).cache()\n",
    "raw_rdd.take(2)"
   ]
  },
  {
   "cell_type": "code",
   "execution_count": 7,
   "metadata": {},
   "outputs": [
    {
     "data": {
      "text/plain": [
       "42"
      ]
     },
     "execution_count": 7,
     "metadata": {},
     "output_type": "execute_result"
    }
   ],
   "source": [
    "len([0,'tcp','http','SF',181,5450,0,0,0,0,0,1,0,0,0,0,0,0,0,0,0,0,8,8,0.00,0.00,0.00,0.00,1.00,0.00,0.00,9,9,1.00,0.00,0.11,0.00,0.00,0.00,0.00,0.00,'normal'])"
   ]
  },
  {
   "cell_type": "markdown",
   "metadata": {},
   "source": [
    "## Parse Data With Prepared Schema"
   ]
  },
  {
   "cell_type": "code",
   "execution_count": 8,
   "metadata": {},
   "outputs": [
    {
     "data": {
      "text/plain": [
       "[Row(dst_bytes=5450, duration=0, flag='SF', hot=0, label='normal.', num_compromised=0, num_failed_logins=0, num_file_creations=0, num_root=0, protocol_type='tcp', service='http', src_bytes=181, su_attempted='0', urgent=0, wrong_fragment=0),\n",
       " Row(dst_bytes=486, duration=0, flag='SF', hot=0, label='normal.', num_compromised=0, num_failed_logins=0, num_file_creations=0, num_root=0, protocol_type='tcp', service='http', src_bytes=239, su_attempted='0', urgent=0, wrong_fragment=0),\n",
       " Row(dst_bytes=1337, duration=0, flag='SF', hot=0, label='normal.', num_compromised=0, num_failed_logins=0, num_file_creations=0, num_root=0, protocol_type='tcp', service='http', src_bytes=235, su_attempted='0', urgent=0, wrong_fragment=0),\n",
       " Row(dst_bytes=1337, duration=0, flag='SF', hot=0, label='normal.', num_compromised=0, num_failed_logins=0, num_file_creations=0, num_root=0, protocol_type='tcp', service='http', src_bytes=219, su_attempted='0', urgent=0, wrong_fragment=0),\n",
       " Row(dst_bytes=2032, duration=0, flag='SF', hot=0, label='normal.', num_compromised=0, num_failed_logins=0, num_file_creations=0, num_root=0, protocol_type='tcp', service='http', src_bytes=217, su_attempted='0', urgent=0, wrong_fragment=0)]"
      ]
     },
     "execution_count": 8,
     "metadata": {},
     "output_type": "execute_result"
    }
   ],
   "source": [
    "csv_rdd = raw_rdd.map(lambda row: row.split(\",\"))\n",
    "parsed_rdd = csv_rdd.map(lambda r: Row(\n",
    "    duration=int(r[0]),\n",
    "    protocol_type=r[1],\n",
    "    service=r[2],\n",
    "    flag=r[3],\n",
    "    src_bytes=int(r[4]),\n",
    "    dst_bytes=int(r[5]),\n",
    "    wrong_fragment=int(r[7]),\n",
    "    urgent=int(r[8]),\n",
    "    hot=int(r[9]),\n",
    "    num_failed_logins=int(r[10]),\n",
    "    num_compromised=int(r[12]),\n",
    "    su_attempted=r[14],\n",
    "    num_root=int(r[15]),\n",
    "    num_file_creations=int(r[16]),\n",
    "    label=r[-1]\n",
    "    )\n",
    ")\n",
    "parsed_rdd.take(5)"
   ]
  },
  {
   "cell_type": "markdown",
   "metadata": {},
   "source": [
    "## Create a Spark SQL Context and a df with SQL Context"
   ]
  },
  {
   "cell_type": "code",
   "execution_count": 9,
   "metadata": {},
   "outputs": [],
   "source": [
    "sqlContext = SQLContext(sc)\n",
    "df = sqlContext.createDataFrame(parsed_rdd)"
   ]
  },
  {
   "cell_type": "markdown",
   "metadata": {},
   "source": [
    "## Spark Analysis"
   ]
  },
  {
   "cell_type": "code",
   "execution_count": 11,
   "metadata": {},
   "outputs": [
    {
     "name": "stdout",
     "output_type": "stream",
     "text": [
      "+-------------+------+\n",
      "|protocol_type| count|\n",
      "+-------------+------+\n",
      "|          udp| 20354|\n",
      "|          tcp|190065|\n",
      "|         icmp|283602|\n",
      "+-------------+------+\n",
      "\n"
     ]
    }
   ],
   "source": [
    "d1=df.groupBy('protocol_type').count()\n",
    "d1.orderBy('count',ascending=True).show()"
   ]
  },
  {
   "cell_type": "code",
   "execution_count": 12,
   "metadata": {},
   "outputs": [
    {
     "data": {
      "text/plain": [
       "pyspark.sql.dataframe.DataFrame"
      ]
     },
     "execution_count": 12,
     "metadata": {},
     "output_type": "execute_result"
    }
   ],
   "source": [
    "type(df)"
   ]
  },
  {
   "cell_type": "code",
   "execution_count": 13,
   "metadata": {},
   "outputs": [
    {
     "name": "stdout",
     "output_type": "stream",
     "text": [
      "+-------------+------+\n",
      "|protocol_type| count|\n",
      "+-------------+------+\n",
      "|         icmp|283602|\n",
      "|          tcp|190065|\n",
      "|          udp| 20354|\n",
      "+-------------+------+\n",
      "\n"
     ]
    }
   ],
   "source": [
    "sqlContext = SQLContext(sc)\n",
    "df = sqlContext.createDataFrame(parsed_rdd)\n",
    "connections_by_protocol = df.groupBy('protocol_type').count().orderBy('count', ascending=False)\n",
    "connections_by_protocol.show()"
   ]
  },
  {
   "cell_type": "code",
   "execution_count": 30,
   "metadata": {},
   "outputs": [
    {
     "name": "stdout",
     "output_type": "stream",
     "text": [
      "+-------------+---------+----------+--------------+--------------+-------------+-------------------+-----------------+--------------------+-------------------+------------------+\n",
      "|protocol_type|    state|total_freq|mean_src_bytes|mean_dst_bytes|mean_duration|total_failed_logins|total_compromised|total_file_creations|total_root_attempts|total_root_acceses|\n",
      "+-------------+---------+----------+--------------+--------------+-------------+-------------------+-----------------+--------------------+-------------------+------------------+\n",
      "|         icmp|   attack|    282314|        932.14|           0.0|          0.0|                  0|                0|                   0|                0.0|                 0|\n",
      "|          tcp|   attack|    113252|       9880.38|        881.41|        23.19|                 57|             2269|                  76|                1.0|               152|\n",
      "|          tcp|no attack|     76813|       1439.31|       4263.97|        11.08|                 18|             2776|                 459|               17.0|              5456|\n",
      "|          udp|no attack|     19177|         98.01|         89.89|      1054.63|                  0|                0|                   0|                0.0|                 0|\n",
      "|         icmp|no attack|      1288|         91.47|           0.0|          0.0|                  0|                0|                   0|                0.0|                 0|\n",
      "|          udp|   attack|      1177|          27.5|          0.23|          0.0|                  0|                0|                   0|                0.0|                 0|\n",
      "+-------------+---------+----------+--------------+--------------+-------------+-------------------+-----------------+--------------------+-------------------+------------------+\n",
      "\n"
     ]
    }
   ],
   "source": [
    "#df.registerTempTable(\"connections\")  used in old version 2.xx\n",
    "df.createOrReplaceTempView(\"connections\")\n",
    "df.attack_stats = sqlContext.sql(\"\"\"\n",
    "    SELECT\n",
    "      protocol_type,\n",
    "      CASE label\n",
    "        WHEN 'normal.' THEN 'no attack'\n",
    "        ELSE 'attack'\n",
    "      END AS state,\n",
    "      COUNT(*) as total_freq,\n",
    "      ROUND(AVG(src_bytes), 2) as mean_src_bytes,\n",
    "      ROUND(AVG(dst_bytes), 2) as mean_dst_bytes,\n",
    "      ROUND(AVG(duration), 2) as mean_duration,\n",
    "      SUM(num_failed_logins) as total_failed_logins,\n",
    "      SUM(num_compromised) as total_compromised,\n",
    "      SUM(num_file_creations) as total_file_creations,\n",
    "      SUM(su_attempted) as total_root_attempts,\n",
    "      SUM(num_root) as total_root_acceses\n",
    "    FROM connections\n",
    "    GROUP BY protocol_type, state\n",
    "    ORDER BY 3 DESC\n",
    "    \"\"\")\n",
    "df.attack_stats.show()"
   ]
  },
  {
   "cell_type": "code",
   "execution_count": 32,
   "metadata": {},
   "outputs": [
    {
     "data": {
      "image/png": "[encoded data removed]",
      "text/plain": [
       "<Figure size 720x1800 with 9 Axes>"
      ]
     },
     "metadata": {
      "needs_background": "light"
     },
     "output_type": "display_data"
    }
   ],
   "source": [
    "%matplotlib inline\n",
    "ax = df.attack_stats.toPandas().plot.bar(x='protocol_type', subplots=True, figsize=(10,25))"
   ]
  },
  {
   "cell_type": "code",
   "execution_count": 33,
   "metadata": {},
   "outputs": [
    {
     "name": "stdout",
     "output_type": "stream",
     "text": [
      "+-------------------+------------+\n",
      "|          visit_dts|web_datetime|\n",
      "+-------------------+------------+\n",
      "|5/1/2018 3:48:14 PM|        null|\n",
      "+-------------------+------------+\n",
      "\n"
     ]
    }
   ],
   "source": [
    "from pyspark.sql import Row\n",
    "df = sc.parallelize([Row(visit_dts='5/1/2018 3:48:14 PM')]).toDF()\n",
    "import pyspark.sql.functions as f\n",
    "web = df.withColumn(\"web_datetime\", f.from_unixtime(f.unix_timestamp(\"visit_dts\",'MM/dd/yyyy hh:mm:ss aa'),'MM/dd/yyyy HH:mm:ss'))\n",
    "web.show()"
   ]
  }
 ],
 "metadata": {
  "kernelspec": {
   "display_name": "Python 3",
   "language": "python",
   "name": "python3"
  },
  "language_info": {
   "codemirror_mode": {
    "name": "ipython",
    "version": 3
   },
   "file_extension": ".py",
   "mimetype": "text/x-python",
   "name": "python",
   "nbconvert_exporter": "python",
   "pygments_lexer": "ipython3",
   "version": "3.7.4"
  }
 },
 "nbformat": 4,
 "nbformat_minor": 2
}
